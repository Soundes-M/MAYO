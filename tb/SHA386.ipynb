{
 "cells": [
  {
   "cell_type": "markdown",
   "metadata": {},
   "source": [
    "# STRING HASH GENERATOR\n",
    "tested on linux"
   ]
  },
  {
   "cell_type": "code",
   "execution_count": 2,
   "metadata": {},
   "outputs": [
    {
     "name": "stdout",
     "output_type": "stream",
     "text": [
      "Algorithms: \n",
      "{'sha1', 'sha3_256', 'sha512', 'md5', 'sha224', 'sha3_512', 'sha3_224', 'blake2b', 'sha3_384', 'shake_256', 'sha384', 'shake_128', 'sha256', 'blake2s'}\n"
     ]
    }
   ],
   "source": [
    "import hashlib\n",
    "\n",
    "print(\"Algorithms: \" )\n",
    "print(hashlib.algorithms_guaranteed)\n",
    "\n",
    "if ( 'sha3_384' not in hashlib.algorithms_guaranteed):\n",
    "    print( \"ERROR cannot use sha384\")"
   ]
  },
  {
   "cell_type": "markdown",
   "metadata": {},
   "source": [
    " ## Generate hash data and write to .dat files for vivado later use."
   ]
  },
  {
   "cell_type": "code",
   "execution_count": 64,
   "metadata": {},
   "outputs": [
    {
     "name": "stdout",
     "output_type": "stream",
     "text": [
      "160 Bytes\n",
      "Input: 48692074686973206973206120737472696e67206f662033322062797465732e48692074686973206973206120737472696e67206f662036342062797465732e48692074686973206973206120737472696e67206f662039362062797465732e48692074686973206973206120737472696e67206f662031323862797465732e48692074686973206973206120737472696e67206f662031363062797465732e\n",
      "\n",
      "##########################################\n",
      "\n",
      "Output (sha3_386): d5a5e4ac6dfe3d6468013f49d9dc9ac0bdfb6d91c3086ce5eb26761354294eac929785d9f61c9135d8a4e40e938ac1d1\n",
      "96 Bytes\n",
      "Output (sha386): 8a05a409cc82ccb0679ad77aeb5d185a19feded03b8f15de4c0fdb2dd4424228b6d08e863a5343997930c1b4aea96365\n",
      "96 Bytes\n",
      "\n",
      "##########################################\n",
      "\n",
      "Output (sha3_256): a205748bf31a4f732b25bf68c058f21ea7248aa6a2b977b9c72f85546cbd13a8\n",
      "64 Bytes\n",
      "Output (sha256): 3781e0e5f26f00767e6e4f4c0631509a3e080d4e5f4e8f680489fd3db6b68cbf\n",
      "64 Bytes\n"
     ]
    }
   ],
   "source": [
    "INPUT_SIZE = 160\n",
    "\n",
    "def writetofile(input:str,sep_size:int,filename:str):\n",
    "    assert (len(input) % sep_size == 0),\"Wrong sep Size\"\n",
    "    file = open(f'hash_gen/{filename}','w')\n",
    "    L = []\n",
    "    _s = \"\"\n",
    "    for byte in input:\n",
    "        _s += byte\n",
    "        if len(_s) % sep_size == 0:\n",
    "            _s += \"\\n\"\n",
    "            L.append(_s)\n",
    "            _s = \"\"\n",
    "    file.writelines(L)\n",
    "    file.close()\n",
    "    return\n",
    "\n",
    "in_str = \"Hi this is a string of 32 bytes.\\\n",
    "Hi this is a string of 64 bytes.\\\n",
    "Hi this is a string of 96 bytes.\\\n",
    "Hi this is a string of 128bytes.\\\n",
    "Hi this is a string of 160bytes.\"\n",
    "print(f'{len(in_str.encode())} Bytes')\n",
    "assert (INPUT_SIZE == len(in_str.encode())), \"We only need 32 Bytes for now..\"\n",
    "\n",
    "bytes_string = ''.join(hex(ord(x))[2:] for x in in_str)\n",
    "print(f'Input: {bytes_string}')\n",
    "writetofile(bytes_string,8,\"input.dat\")\n",
    "\n",
    "print('\\n##########################################\\n')\n",
    "out_hash3 = hashlib.sha3_384(in_str.encode())\n",
    "out_hash = hashlib.sha384(in_str.encode())\n",
    "\n",
    "print(f'Output (sha3_386): {out_hash3.hexdigest()}')\n",
    "print(len(out_hash3.hexdigest()), 'Bytes')\n",
    "writetofile(out_hash3.hexdigest(),8,\"hash3_386.golden.dat\")\n",
    "\n",
    "print(f'Output (sha386): {out_hash.hexdigest()}')\n",
    "print(len(out_hash.hexdigest()), 'Bytes')\n",
    "writetofile(out_hash.hexdigest(),8,\"hash386.golden.dat\")\n",
    "\n",
    "print('\\n##########################################\\n')\n",
    "out_hash3 = hashlib.sha3_256(in_str.encode())\n",
    "out_hash = hashlib.sha256(in_str.encode())\n",
    "\n",
    "print(f'Output (sha3_256): {out_hash3.hexdigest()}')\n",
    "print(len(out_hash3.hexdigest()), 'Bytes')\n",
    "writetofile(out_hash3.hexdigest(),8,\"hash3_256.golden.dat\")\n",
    "\n",
    "print(f'Output (sha256): {out_hash.hexdigest()}')\n",
    "print(len(out_hash.hexdigest()), 'Bytes')\n",
    "writetofile(out_hash.hexdigest(),8,\"hash256.golden.dat\")\n",
    "\n"
   ]
  },
  {
   "cell_type": "markdown",
   "metadata": {},
   "source": [
    "## Convert Hex to HASH (For testing)"
   ]
  },
  {
   "cell_type": "code",
   "execution_count": 11,
   "metadata": {},
   "outputs": [
    {
     "name": "stdout",
     "output_type": "stream",
     "text": [
      "INPUT: 1024 bytes 873CDBA6B3EBE9BB0000002324993E0C00000000000000000000000000000000000000000000000000000000000000000000000000000000000000000000000000000000000000000000000000000000000000000000000000000000000000000000000000000000000000000000000000000000000000008000000000000000\n",
      "HASH:\n",
      "256   -> c27646f6f16aa1068e6277c5c86a541395d03eadce9d89a33b0f7a4e09f94dce\n",
      "3_256 -> 846c18b27850e2280751accf2698110ff466d1c208875e7240209a9c192087cb\n",
      "386   -> 7f9805dd029da5e099279cb464bb1a2cebec03d923687a019d647c3bff3c85840f0f2eda6cba862577f0cdbf97b17258\n",
      "3_386 -> 90686b2d1d51ba57873130113dc550021160145235985b7b8d7479454d92fb6c212c0c099fa5b7d6726b5e3c947002dc\n",
      "S_256 -> 74190d1dccd245aa65303237a7ff9a790a9a82b969c35d40f11511d4e91a0ae2\n",
      "S_128 -> 50c96853285d51f884ec2b7e17d20eff90c76a8869d6a3461434cc486d66845d\n",
      "K_256 -> 745dacb1d1a9ceaa9e9c0d45324eeca9af13a44ee83e436e827c3ee5743b5f03\n",
      "GOLDEN: 256 bytes\n",
      "     ->  CD41E6898C8B8A71CB6E421E0B4B89921CA2AE16CF007D7DC51459FB793B8984\n"
     ]
    }
   ],
   "source": [
    "from Crypto.Hash import keccak\n",
    "\n",
    "def convert_string(input: str) -> str:\n",
    "    # hashs = []\n",
    "    hashs = {}\n",
    "    hash = hashlib.sha256(bytes.fromhex(input))\n",
    "    hashs['256'] = hash.hexdigest()\n",
    "    hash = hashlib.sha3_256(bytes.fromhex(input))\n",
    "    hashs['3_256'] = hash.hexdigest()\n",
    "    hash = hashlib.sha384(bytes.fromhex(input))\n",
    "    hashs['386'] = hash.hexdigest()\n",
    "    hash = hashlib.sha3_384(bytes.fromhex(input))\n",
    "    hashs['3_386'] = hash.hexdigest()\n",
    "    hash = hashlib.shake_256(bytes.fromhex(input))\n",
    "    hashs['S_256'] = hash.hexdigest(32)\n",
    "    hash = hashlib.shake_128(bytes.fromhex(input))\n",
    "    hashs['S_128'] = hash.hexdigest(32)\n",
    "    k = keccak.new(digest_bits=256)\n",
    "    k.update(bytes.fromhex(input))\n",
    "    hashs['K_256'] = k.hexdigest()\n",
    "    return hashs\n",
    "\n",
    "\n",
    "def readfromfile(filename: str):\n",
    "    file = open(filename, \"r\")\n",
    "    _str = file.read()\n",
    "    _str = _str.replace(\"\\n\", \"\")\n",
    "    file.close()\n",
    "    return _str\n",
    "\n",
    "# string = readfromfile(\n",
    "#     \"/home/osm/Documents/SECT-MAYO/MAYO/vivado/fullBIKE_project/fullBIKE_project.sim/sim_1/behav/xsim/input_hash.dat\")\n",
    "string =\"873CDBA6B3EBE9BB0000002324993E0C00000000000000000000000000000000000000000000000000000000000000\\\n",
    "000000000000000000000000000000000000000000000000000000000000000000000000000000000000000000000000000000000000000000000000000000000000000000000000008000000000000000\" \n",
    "\n",
    "print(\"INPUT:\",len(string)*4,\"bytes\",string)\n",
    "\n",
    "string_with_space = ' '.join(string[i:i+2] for i in range(0, len(string), 2))\n",
    "_ = convert_string(string)\n",
    "print(\"HASH:\")\n",
    "for h in _:\n",
    "    print(f'{h:5} -> {_[h]}')\n",
    "\n",
    "#golden = readfromfile(\"/home/osm/Documents/SECT-MAYO/MAYO/vivado/fullBIKE_project/fullBIKE_project.sim/sim_1/behav/xsim/output_hash.dat\")\n",
    "golden = \"CD41E6898C8B8A71\\\n",
    "CB6E421E0B4B8992\\\n",
    "1CA2AE16CF007D7D\\\n",
    "C51459FB793B8984\"\n",
    "print(\"GOLDEN:\",len(golden)*4,\"bytes\\n     -> \",golden)\n"
   ]
  }
 ],
 "metadata": {
  "interpreter": {
   "hash": "5449216351f2b43e9bb01d112f1f922a1c729f99f589bd61248a748e309f81d7"
  },
  "kernelspec": {
   "display_name": "Python 3.9.2 ('mayo-py': venv)",
   "language": "python",
   "name": "python3"
  },
  "language_info": {
   "codemirror_mode": {
    "name": "ipython",
    "version": 3
   },
   "file_extension": ".py",
   "mimetype": "text/x-python",
   "name": "python",
   "nbconvert_exporter": "python",
   "pygments_lexer": "ipython3",
   "version": "3.9.2"
  },
  "orig_nbformat": 4
 },
 "nbformat": 4,
 "nbformat_minor": 2
}
